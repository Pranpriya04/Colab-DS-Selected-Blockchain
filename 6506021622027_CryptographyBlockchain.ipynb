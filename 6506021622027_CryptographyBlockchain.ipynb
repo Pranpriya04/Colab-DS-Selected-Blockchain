{
  "nbformat": 4,
  "nbformat_minor": 0,
  "metadata": {
    "colab": {
      "provenance": [],
      "gpuType": "T4",
      "authorship_tag": "ABX9TyNkDwEeGjoNYS6KwkibKdwb",
      "include_colab_link": true
    },
    "kernelspec": {
      "name": "python3",
      "display_name": "Python 3"
    },
    "language_info": {
      "name": "python"
    },
    "accelerator": "GPU"
  },
  "cells": [
    {
      "cell_type": "markdown",
      "metadata": {
        "id": "view-in-github",
        "colab_type": "text"
      },
      "source": [
        "<a href=\"https://colab.research.google.com/github/Pranpriya04/Colab-DS-Selected-Blockchain/blob/main/6506021622027_CryptographyBlockchain.ipynb\" target=\"_parent\"><img src=\"https://colab.research.google.com/assets/colab-badge.svg\" alt=\"Open In Colab\"/></a>"
      ]
    },
    {
      "cell_type": "markdown",
      "source": [
        "## สไลด์ 12 RSA Digital Signature"
      ],
      "metadata": {
        "id": "xcoGg43iqFC3"
      }
    },
    {
      "cell_type": "code",
      "metadata": {
        "colab": {
          "base_uri": "https://localhost:8080/"
        },
        "id": "d6e63842",
        "outputId": "9e96314c-bcee-4ae1-d08f-d86026d03edf"
      },
      "source": [
        "!pip install pycryptodome"
      ],
      "execution_count": null,
      "outputs": [
        {
          "output_type": "stream",
          "name": "stdout",
          "text": [
            "Collecting pycryptodome\n",
            "  Downloading pycryptodome-3.23.0-cp37-abi3-manylinux_2_17_x86_64.manylinux2014_x86_64.whl.metadata (3.4 kB)\n",
            "Downloading pycryptodome-3.23.0-cp37-abi3-manylinux_2_17_x86_64.manylinux2014_x86_64.whl (2.3 MB)\n",
            "\u001b[?25l   \u001b[90m━━━━━━━━━━━━━━━━━━━━━━━━━━━━━━━━━━━━━━━━\u001b[0m \u001b[32m0.0/2.3 MB\u001b[0m \u001b[31m?\u001b[0m eta \u001b[36m-:--:--\u001b[0m\r\u001b[2K   \u001b[91m━━━━━━━━━━━━━━━━━━━━━━━━━━━━━━━━━━━━━━━\u001b[0m\u001b[91m╸\u001b[0m \u001b[32m2.3/2.3 MB\u001b[0m \u001b[31m94.7 MB/s\u001b[0m eta \u001b[36m0:00:01\u001b[0m\r\u001b[2K   \u001b[90m━━━━━━━━━━━━━━━━━━━━━━━━━━━━━━━━━━━━━━━━\u001b[0m \u001b[32m2.3/2.3 MB\u001b[0m \u001b[31m53.4 MB/s\u001b[0m eta \u001b[36m0:00:00\u001b[0m\n",
            "\u001b[?25hInstalling collected packages: pycryptodome\n",
            "Successfully installed pycryptodome-3.23.0\n"
          ]
        }
      ]
    },
    {
      "cell_type": "markdown",
      "source": [
        "เปลี่ยนขนาดกุญแจจาก 1024 เป็น 2048"
      ],
      "metadata": {
        "id": "SGk9C1YurBhH"
      }
    },
    {
      "cell_type": "code",
      "source": [
        "from Cryptodome.Signature import pss\n",
        "from Cryptodome.Hash import SHA256\n",
        "from Cryptodome.PublicKey import RSA\n",
        "\n",
        "msg = b'pranpriya' #ข้อความต้นฉบับ\n",
        "key = RSA.generate(2048) #สร้างกุญแจ RSA ขนาด 2048 บิต\n",
        "hashed = SHA256.new(msg) #แฮชข้อความด้วย SHA-256\n",
        "signature = pss.new(key).sign(hashed) #เซ็นแฮชด้วย RSA-PSS ใช้ private key"
      ],
      "metadata": {
        "id": "FFCuH_Hhp56q"
      },
      "execution_count": null,
      "outputs": []
    },
    {
      "cell_type": "code",
      "source": [
        "print(signature)"
      ],
      "metadata": {
        "colab": {
          "base_uri": "https://localhost:8080/"
        },
        "id": "MT66khwBrhGt",
        "outputId": "df14fdbd-d63b-4dae-8841-57efa9a5f847"
      },
      "execution_count": null,
      "outputs": [
        {
          "output_type": "stream",
          "name": "stdout",
          "text": [
            "b\"\\xb5\\x0eH\\xef\\xd5\\x8a\\x8fGi\\x06L\\xd9J-_\\x83\\x7f\\x89dE\\x9c\\xa4\\xbbg\\xb2\\x06m\\x91\\x80N\\xc4\\xd9\\x08\\xfd\\xcfs\\x86\\x9f\\xc3\\xad\\xa8\\xcd\\x83\\x11\\xd6/\\x17\\x07[`\\xdb\\x87\\xa0\\xcb\\xd4\\x9c\\xe0\\xa1\\xae9\\x0b\\xfc\\xdfi\\xf02\\xdfq\\x1e\\xbf\\xb3\\x1e\\xb4e\\xae\\xa3\\xb5P~C>\\x02X^hS\\xf2\\x85\\x1f\\x18+\\x8c\\x9c\\x84\\xf3;\\xb6*\\x96\\x9d\\x9a\\x14\\x80\\xa4\\xab\\x98\\x16\\x89\\xb4q\\xaf&KOt\\xed\\xde\\xef\\xe5\\xa3q!\\x80\\xae\\x1e*W=\\xe5\\xb7@\\xa3\\xf6b\\xa3-9\\x84\\xd6\\x03\\xcb\\xb86,_\\x8f;-'\\xe1o-\\xe8\\xed!\\x9dKt\\xcbp:8.\\x1f\\x81\\x06\\xc1\\xb9\\xdb\\x19r\\x83\\xa0\\xde\\xa4\\xd6\\x06\\xd8\\xb1U]\\xc7\\xebJ.\\x06\\xf0O\\x86+6\\xd0\\xe4\\xe2n\\x82U\\x0b\\xe5\\x9c\\xc1\\xe6xW\\xab\\x03\\xf8|\\xba@\\xd9\\x10\\x19\\xea\\xe2_\\xc5\\x0cY\\xfa\\xd8x\\xc1:\\xf9\\xf7\\xfb\\x0b\\xd5Ny\\xbf\\xe8\\xbb\\x0f\\xc5\\x80!\\xca\\xb4\\x19\\x08\\xdd\\x7fM\\x95\\xe2\\x91\\xf1Y\\x83\\x198\\x04\\x02O\"\n"
          ]
        }
      ]
    },
    {
      "cell_type": "code",
      "source": [
        "from Crypto.Signature import pss\n",
        "from Crypto.Hash import SHA256\n",
        "from Crypto.PublicKey import RSA\n",
        "\n",
        "msg = b'pranpriya'  #ข้อความต้นฉบับ\n",
        "#key = RSA.generate(2048)\n",
        "hashed = SHA256.new(msg) #แฮชข้อความด้วย SHA-256\n",
        "verifier = pss.new(key) #ตรวจสอบลายเซ็นด้วย public key\n",
        "\n",
        "try:\n",
        "    verifier.verify(hashed, signature)  #ตรวจว่าลายเซ็นตรงกับแฮชไหม\n",
        "    print('Authentic')  #ถ้าตรง\n",
        "except:\n",
        "    print('Not Authentic') #ถ้าไม่ตรง"
      ],
      "metadata": {
        "colab": {
          "base_uri": "https://localhost:8080/"
        },
        "id": "j1cPpuObp7Mw",
        "outputId": "c53f595d-8c08-46bd-b014-79a547621ef5"
      },
      "execution_count": null,
      "outputs": [
        {
          "output_type": "stream",
          "name": "stdout",
          "text": [
            "Authentic\n"
          ]
        }
      ]
    },
    {
      "cell_type": "code",
      "source": [
        "print(key1,key2)"
      ],
      "metadata": {
        "colab": {
          "base_uri": "https://localhost:8080/"
        },
        "id": "nbOV5zkPuMp2",
        "outputId": "b684d265-201d-4e87-96cb-6ccf907aa554"
      },
      "execution_count": null,
      "outputs": [
        {
          "output_type": "stream",
          "name": "stdout",
          "text": [
            "Private RSA key at 0x7DB89A5B4D10 Private RSA key at 0x7DB89A922790\n"
          ]
        }
      ]
    },
    {
      "cell_type": "markdown",
      "source": [
        "## สไลด์ 16 ECDSA Digital Signature"
      ],
      "metadata": {
        "id": "GvXEzNQGqbrX"
      }
    },
    {
      "cell_type": "code",
      "source": [
        "from Crypto.Signature import DSS\n",
        "from Crypto.Hash import SHA256\n",
        "from Crypto.PublicKey import ECC\n",
        "\n",
        "msg = b'pranpriya' #ข้อความต้นฉบับ\n",
        "key = ECC.generate(curve='p256') #สร้างECC key pair(private + public key)บนcurve'p256'\n",
        "hashed = SHA256.new(msg) #แฮชข้อความด้วยSHA-256\n",
        "signer = DSS.new(key, 'fips-186-3') #เตรียมsigner ด้วย key และมาตรฐาน FIPS 186-3\n",
        "signature = signer.sign(hashed) #สร้างลายเซ็นจากdigest"
      ],
      "metadata": {
        "id": "mXfjdYx_qgiC"
      },
      "execution_count": null,
      "outputs": []
    },
    {
      "cell_type": "code",
      "source": [
        "from Crypto.Signature import DSS\n",
        "from Crypto.Hash import SHA256\n",
        "from Crypto.PublicKey import ECC\n",
        "\n",
        "msg = b'pranpriya' #ข้อความต้นฉบับ\n",
        "#key = ECC.generate(curve='p256')\n",
        "hashed = SHA256.new(msg)  #แฮชข้อความด้วย SHA-256\n",
        "verifier = DSS.new(key, 'fips-186-3') #เตรียมตัวตรวจสอบลายเซ็นด้วยpublic key\n",
        "\n",
        "try:\n",
        "    verifier.verify(hashed, signature) #ตรวจว่าลายเซ็นตรงกับแฮชไหม\n",
        "    print('Authentic') #ถ้าตรง\n",
        "except:\n",
        "    print('Not Authentic') #ถ้าไม่ตรง"
      ],
      "metadata": {
        "colab": {
          "base_uri": "https://localhost:8080/"
        },
        "id": "uHVROpb7qwuU",
        "outputId": "7abf64fd-1e14-442a-d0f4-355f12087139"
      },
      "execution_count": null,
      "outputs": [
        {
          "output_type": "stream",
          "name": "stdout",
          "text": [
            "Authentic\n"
          ]
        }
      ]
    }
  ]
}