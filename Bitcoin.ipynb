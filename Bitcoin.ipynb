{
  "nbformat": 4,
  "nbformat_minor": 0,
  "metadata": {
    "colab": {
      "provenance": [],
      "authorship_tag": "ABX9TyOBI0yy6OX1CHPvnX0bvuYg",
      "include_colab_link": true
    },
    "kernelspec": {
      "name": "python3",
      "display_name": "Python 3"
    },
    "language_info": {
      "name": "python"
    }
  },
  "cells": [
    {
      "cell_type": "markdown",
      "metadata": {
        "id": "view-in-github",
        "colab_type": "text"
      },
      "source": [
        "<a href=\"https://colab.research.google.com/github/Pranpriya04/Colab-DS-Selected-Blockchain/blob/main/Bitcoin.ipynb\" target=\"_parent\"><img src=\"https://colab.research.google.com/assets/colab-badge.svg\" alt=\"Open In Colab\"/></a>"
      ]
    },
    {
      "cell_type": "code",
      "execution_count": 3,
      "metadata": {
        "id": "e-2nfTHP2zNM"
      },
      "outputs": [],
      "source": [
        "import hashlib\n",
        "import binascii\n",
        "import datetime\n",
        "import collections\n",
        "import Crypto.Random\n",
        "from Crypto.Hash import SHA\n",
        "from Crypto.PublicKey import RSA\n",
        "from Crypto.Signature import PKCS1_v1_5"
      ]
    },
    {
      "cell_type": "markdown",
      "source": [
        "# Client"
      ],
      "metadata": {
        "id": "dKVnKZVL44sU"
      }
    },
    {
      "cell_type": "code",
      "source": [
        "class Client:\n",
        "    def __init__(self):\n",
        "        random_gen = Crypto.Random.new().read\n",
        "        self.pri_key = RSA.generate(1024, random_gen)\n",
        "        self.pub_key = self.pri_key.publickey()\n",
        "        self.signer = PKCS1_v1_5.new(self.pri_key)\n",
        "\n",
        "    def identity(self):\n",
        "        return binascii.hexlify(\n",
        "            self.pub_key.exportKey(format='DER')\n",
        "        ).decode('ascii')"
      ],
      "metadata": {
        "id": "8mw_ZTTs3CTU"
      },
      "execution_count": 14,
      "outputs": []
    },
    {
      "cell_type": "markdown",
      "source": [
        "# Transaction"
      ],
      "metadata": {
        "id": "zACSmu_f4-61"
      }
    },
    {
      "cell_type": "code",
      "source": [
        "class Transaction:\n",
        "    def __init__(self, sender, receiver, value):\n",
        "        self.sender = sender\n",
        "        self.receiver = receiver\n",
        "        self.value = value\n",
        "        self.time = datetime.datetime.now()\n",
        "\n",
        "    def to_dict(self):\n",
        "        if self.sender == \"Genesis\":\n",
        "            identity = \"Genesis\"\n",
        "        else:\n",
        "            identity = self.sender.identity()\n",
        "        return collections.OrderedDict({\n",
        "            'sender': identity,\n",
        "            'receiver': self.receiver.identity() if self.receiver != \"Genesis\" else \"Genesis\",\n",
        "            'value': self.value,\n",
        "            'time': self.time.strftime(\"%Y-%m-%d %H:%M:%S\")\n",
        "        })\n",
        "\n",
        "    def sign_transaction(self):\n",
        "        if self.sender == \"Genesis\":\n",
        "            return None\n",
        "        signer = PKCS1_v1_5.new(self.sender.pri_key)\n",
        "        h = SHA.new(str(self.to_dict()).encode('utf8'))\n",
        "        return binascii.hexlify(signer.sign(h)).decode('ascii')\n",
        "\n",
        "\n",
        "def display_transaction(transaction):\n",
        "    d = transaction.to_dict()\n",
        "    print(\"sender:\", d['sender'])\n",
        "    print(\"receiver:\", d['receiver'])\n",
        "    print(\"value:\", d['value'])\n",
        "    print(\"time:\", d['time'])\n",
        "    print(\"-----\")"
      ],
      "metadata": {
        "id": "xtlVRvTR3XLl"
      },
      "execution_count": 15,
      "outputs": []
    },
    {
      "cell_type": "markdown",
      "source": [
        "# Block"
      ],
      "metadata": {
        "id": "YRFvROb65FN9"
      }
    },
    {
      "cell_type": "code",
      "source": [
        "class Block:\n",
        "    def __init__(self):\n",
        "        self.verified_transactions = []\n",
        "        self.previous_block_hash = \"\"\n",
        "        self.Nonce = 0\n",
        "        self.hash = self.calculate_hash()\n",
        "\n",
        "    def calculate_hash(self):\n",
        "        sha = hashlib.sha256()\n",
        "        sha.update(str(self.previous_block_hash).encode('utf-8') +\n",
        "                   str(self.Nonce).encode('utf-8'))\n",
        "        return sha.hexdigest()\n",
        "\n",
        "    def mine(self, difficulty):\n",
        "        while self.hash[0:difficulty] != \"0\" * difficulty:\n",
        "            self.Nonce += 1\n",
        "            self.hash = self.calculate_hash()\n",
        "        return self.Nonce\n",
        "\n",
        "\n",
        "def dump_blockchain(block_list):\n",
        "    print(\"Number of blocks in the chain:\", str(len(block_list)))\n",
        "    for i, block in enumerate(block_list):\n",
        "        print(\"Block #\", i)\n",
        "        for tran in block.verified_transactions:\n",
        "            display_transaction(tran)"
      ],
      "metadata": {
        "id": "51vWzlmN5HY9"
      },
      "execution_count": 16,
      "outputs": []
    },
    {
      "cell_type": "markdown",
      "source": [
        "# Main"
      ],
      "metadata": {
        "id": "tE3zzlEK5KF0"
      }
    },
    {
      "cell_type": "code",
      "source": [
        "if __name__ == '__main__':\n",
        "    A = Client()\n",
        "    B = Client()\n",
        "    C = Client()\n",
        "\n",
        "    print(\"Client A identity:\", A.identity())\n",
        "    print(\"Client B identity:\", B.identity())\n",
        "    print(\"Client C identity:\", C.identity())\n",
        "    print(\"=\"*50)\n",
        "\n",
        "\n",
        "    block_list = []\n",
        "    transaction_list = []\n",
        "    transaction_index = 0\n",
        "\n",
        "    genesis = Block()\n",
        "    genesis.previous_block_hash = None\n",
        "    genesis.Nonce = None\n",
        "    t0 = Transaction(\"Genesis\", A, 50)\n",
        "    genesis.verified_transactions.append(t0)\n",
        "    digest = hash(str(genesis))\n",
        "    last_hblock = digest\n",
        "    block_list.append(genesis)\n",
        "\n",
        "    t1 = Transaction(A, B, 20)\n",
        "    t2 = Transaction(B, C, 10)\n",
        "    t3 = Transaction(C, A, 5)\n",
        "\n",
        "    transaction_list.extend([t1, t2, t3])\n",
        "\n",
        "    new_block = Block()\n",
        "    for t in transaction_list:\n",
        "        new_block.verified_transactions.append(t)\n",
        "        transaction_index += 1\n",
        "\n",
        "    new_block.previous_block_hash = last_hblock\n",
        "    new_block.mine(difficulty=2)\n",
        "    digest = hash(str(new_block))\n",
        "    last_hblock = digest\n",
        "    block_list.append(new_block)\n",
        "\n",
        "    dump_blockchain(block_list)"
      ],
      "metadata": {
        "colab": {
          "base_uri": "https://localhost:8080/"
        },
        "id": "-Pjwwy2j5Pik",
        "outputId": "b3872379-932e-467e-97c1-3b421e5b362c"
      },
      "execution_count": 17,
      "outputs": [
        {
          "output_type": "stream",
          "name": "stdout",
          "text": [
            "Client A identity: 30819f300d06092a864886f70d010101050003818d0030818902818100a711d66ef2e9d99eef6f52c3ff4319346d61fda4e67854267dcba29c7c63f131c4afeee6f61d90948ac5074d727f5d55766189af542136eaa96b63bdee4b5edb3a59c98404b5c27492c85588e26e0ff5bfbe8f012181dd4b5420b220407e50584cf6371701e638048a633ac9ce4eff891f05edeeda66a8d7695aa76b2b8afde50203010001\n",
            "Client B identity: 30819f300d06092a864886f70d010101050003818d0030818902818100b598d7d3906dc2a62a0c5a00e6c0dbc3b2ff595ff2f10698ea0b16a65fee2950abca8ae12419844d9f3137a1b3b2c9877258fc1cc73a7c47cc89b51a6bf75cee37629a1538ad30472a0197c5e82a9a5b144214d4f62a89455320054ffafd53223adaefecad32da6380e80c09b4d735c2207e3a9ef409641600fd44e1fd9baed90203010001\n",
            "Client C identity: 30819f300d06092a864886f70d010101050003818d0030818902818100b0b607a88925e2a83cec0db1542dc09ece62c35869541d8e5a2491983230a470e3d51248e8c88e8cd6d08444a28152413de01f1caaaf305f03f6a55323f1e00c4d76109cc3c955d6c60f101629653bdb601b9435f670fa7c3ad91d66b69e572c6e16ab19ca6010f09a960e1b2726eebcb255c61a4ceb43f074ddd1481e263ee50203010001\n",
            "==================================================\n",
            "Number of blocks in the chain: 2\n",
            "Block # 0\n",
            "sender: Genesis\n",
            "receiver: 30819f300d06092a864886f70d010101050003818d0030818902818100a711d66ef2e9d99eef6f52c3ff4319346d61fda4e67854267dcba29c7c63f131c4afeee6f61d90948ac5074d727f5d55766189af542136eaa96b63bdee4b5edb3a59c98404b5c27492c85588e26e0ff5bfbe8f012181dd4b5420b220407e50584cf6371701e638048a633ac9ce4eff891f05edeeda66a8d7695aa76b2b8afde50203010001\n",
            "value: 50\n",
            "time: 2025-08-25 06:32:13\n",
            "-----\n",
            "Block # 1\n",
            "sender: 30819f300d06092a864886f70d010101050003818d0030818902818100a711d66ef2e9d99eef6f52c3ff4319346d61fda4e67854267dcba29c7c63f131c4afeee6f61d90948ac5074d727f5d55766189af542136eaa96b63bdee4b5edb3a59c98404b5c27492c85588e26e0ff5bfbe8f012181dd4b5420b220407e50584cf6371701e638048a633ac9ce4eff891f05edeeda66a8d7695aa76b2b8afde50203010001\n",
            "receiver: 30819f300d06092a864886f70d010101050003818d0030818902818100b598d7d3906dc2a62a0c5a00e6c0dbc3b2ff595ff2f10698ea0b16a65fee2950abca8ae12419844d9f3137a1b3b2c9877258fc1cc73a7c47cc89b51a6bf75cee37629a1538ad30472a0197c5e82a9a5b144214d4f62a89455320054ffafd53223adaefecad32da6380e80c09b4d735c2207e3a9ef409641600fd44e1fd9baed90203010001\n",
            "value: 20\n",
            "time: 2025-08-25 06:32:13\n",
            "-----\n",
            "sender: 30819f300d06092a864886f70d010101050003818d0030818902818100b598d7d3906dc2a62a0c5a00e6c0dbc3b2ff595ff2f10698ea0b16a65fee2950abca8ae12419844d9f3137a1b3b2c9877258fc1cc73a7c47cc89b51a6bf75cee37629a1538ad30472a0197c5e82a9a5b144214d4f62a89455320054ffafd53223adaefecad32da6380e80c09b4d735c2207e3a9ef409641600fd44e1fd9baed90203010001\n",
            "receiver: 30819f300d06092a864886f70d010101050003818d0030818902818100b0b607a88925e2a83cec0db1542dc09ece62c35869541d8e5a2491983230a470e3d51248e8c88e8cd6d08444a28152413de01f1caaaf305f03f6a55323f1e00c4d76109cc3c955d6c60f101629653bdb601b9435f670fa7c3ad91d66b69e572c6e16ab19ca6010f09a960e1b2726eebcb255c61a4ceb43f074ddd1481e263ee50203010001\n",
            "value: 10\n",
            "time: 2025-08-25 06:32:13\n",
            "-----\n",
            "sender: 30819f300d06092a864886f70d010101050003818d0030818902818100b0b607a88925e2a83cec0db1542dc09ece62c35869541d8e5a2491983230a470e3d51248e8c88e8cd6d08444a28152413de01f1caaaf305f03f6a55323f1e00c4d76109cc3c955d6c60f101629653bdb601b9435f670fa7c3ad91d66b69e572c6e16ab19ca6010f09a960e1b2726eebcb255c61a4ceb43f074ddd1481e263ee50203010001\n",
            "receiver: 30819f300d06092a864886f70d010101050003818d0030818902818100a711d66ef2e9d99eef6f52c3ff4319346d61fda4e67854267dcba29c7c63f131c4afeee6f61d90948ac5074d727f5d55766189af542136eaa96b63bdee4b5edb3a59c98404b5c27492c85588e26e0ff5bfbe8f012181dd4b5420b220407e50584cf6371701e638048a633ac9ce4eff891f05edeeda66a8d7695aa76b2b8afde50203010001\n",
            "value: 5\n",
            "time: 2025-08-25 06:32:13\n",
            "-----\n"
          ]
        }
      ]
    }
  ]
}