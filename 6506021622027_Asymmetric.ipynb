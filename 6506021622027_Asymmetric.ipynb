{
  "nbformat": 4,
  "nbformat_minor": 0,
  "metadata": {
    "colab": {
      "provenance": [],
      "authorship_tag": "ABX9TyOO1NUAYxvCvUxeVvx/yTXv",
      "include_colab_link": true
    },
    "kernelspec": {
      "name": "python3",
      "display_name": "Python 3"
    },
    "language_info": {
      "name": "python"
    }
  },
  "cells": [
    {
      "cell_type": "markdown",
      "metadata": {
        "id": "view-in-github",
        "colab_type": "text"
      },
      "source": [
        "<a href=\"https://colab.research.google.com/github/Pranpriya04/Colab-DS-Selected-Blockchain/blob/main/6506021622027_Asymmetric.ipynb\" target=\"_parent\"><img src=\"https://colab.research.google.com/assets/colab-badge.svg\" alt=\"Open In Colab\"/></a>"
      ]
    },
    {
      "cell_type": "code",
      "source": [
        "%pip install pycryptodome"
      ],
      "metadata": {
        "colab": {
          "base_uri": "https://localhost:8080/"
        },
        "id": "nBwj94XIzgS3",
        "outputId": "5d55c2f1-d693-45bb-d19b-c3ad86ab7a10"
      },
      "execution_count": null,
      "outputs": [
        {
          "output_type": "stream",
          "name": "stdout",
          "text": [
            "Collecting pycryptodome\n",
            "  Downloading pycryptodome-3.23.0-cp37-abi3-manylinux_2_17_x86_64.manylinux2014_x86_64.whl.metadata (3.4 kB)\n",
            "Downloading pycryptodome-3.23.0-cp37-abi3-manylinux_2_17_x86_64.manylinux2014_x86_64.whl (2.3 MB)\n",
            "\u001b[?25l   \u001b[90m━━━━━━━━━━━━━━━━━━━━━━━━━━━━━━━━━━━━━━━━\u001b[0m \u001b[32m0.0/2.3 MB\u001b[0m \u001b[31m?\u001b[0m eta \u001b[36m-:--:--\u001b[0m\r\u001b[2K   \u001b[91m━━━━━━━━━━━━━━━━━━━━━━━━━━━━━━━━━━━━━━━\u001b[0m\u001b[91m╸\u001b[0m \u001b[32m2.3/2.3 MB\u001b[0m \u001b[31m83.9 MB/s\u001b[0m eta \u001b[36m0:00:01\u001b[0m\r\u001b[2K   \u001b[90m━━━━━━━━━━━━━━━━━━━━━━━━━━━━━━━━━━━━━━━━\u001b[0m \u001b[32m2.3/2.3 MB\u001b[0m \u001b[31m45.6 MB/s\u001b[0m eta \u001b[36m0:00:00\u001b[0m\n",
            "\u001b[?25hInstalling collected packages: pycryptodome\n",
            "Successfully installed pycryptodome-3.23.0\n"
          ]
        }
      ]
    },
    {
      "cell_type": "markdown",
      "source": [
        "# RSA"
      ],
      "metadata": {
        "id": "KuSqAEXJzXLV"
      }
    },
    {
      "cell_type": "code",
      "execution_count": null,
      "metadata": {
        "colab": {
          "base_uri": "https://localhost:8080/"
        },
        "id": "rgmDALhaynlV",
        "outputId": "3f560b11-0b41-4e71-ebb5-fd8b5321bfc6"
      },
      "outputs": [
        {
          "output_type": "stream",
          "name": "stdout",
          "text": [
            "b'as\\xfe\\x00\\xa6\\xf1R\\xc4\\xf5\\xab\\xbf\\x8c\\x12\\x86D\\xf5\\xf8\\xfa\\xe3\\x7f\\x86\\x08\\x8e\\x9b\\xb8|\\xe3g\\xb8\\x98\\xb0\\xb5\\xf8\\xc0G\\xef\\x16Y\\x90)\\xed\\xb8kP3\\xa5C\\xe3\\\\\\xd4\\x12g1\\xb42\\xe4\\xc29i\\xe2\\xbfZR\\x10|V6Ze\\x963\\xa3\\xe9\\x8f\\x11\\xd0\\xea\\xb0\\xd9\\x1d\\xbfZ\\xb5u\\x1e\\x08x\\xe4(\\x00\\xce\\xce\\xfbzs;\\x15\\x98\\x97I\\xc6\\xa5\\x94|\\xfd.\\x9e(x\\x86}n&$*m\\xb8B\\x96\\xed\\xc9\\x8b\\xb2+\\xd2\\x86+w'\n"
          ]
        }
      ],
      "source": [
        "from Crypto.PublicKey import RSA\n",
        "from Crypto.Cipher import PKCS1_OAEP\n",
        "\n",
        "key = RSA.generate(1024)   #สร้างRSA keyขนาด 1024 บิต\n",
        "private_key = key   #เก็บ private key\n",
        "public_key = key.publickey()   #แยกเอา public key\n",
        "\n",
        "msg = b'pranpriya'   #ข้อความต้นฉบับ\n",
        "\n",
        "cip = PKCS1_OAEP.new(public_key)   #สร้างตัวเข้ารหัสโดยใช้public key\n",
        "enc = cip.encrypt(msg)   #เข้ารหัสข้อความ\n",
        "print(enc)"
      ]
    },
    {
      "cell_type": "markdown",
      "source": [
        "# ถอดรหัส"
      ],
      "metadata": {
        "id": "T27852eEzUCS"
      }
    },
    {
      "cell_type": "code",
      "source": [
        "dcip = PKCS1_OAEP.new(private_key)   #สร้างตัวถอดรหัสด้วย private key ใช้OAEP padding เหมือนกับตอนเข้ารหัสเพื่อให้ถอดได้ถูกต้อง\n",
        "dcrypt = dcip.decrypt(enc)   #ทำการถอดรหัสข้อความที่ถูกเข้ารหัสไว้ใน enc\n",
        "print(dcrypt)  #แสดงผลข้อความที่ถอดรหัสได้"
      ],
      "metadata": {
        "colab": {
          "base_uri": "https://localhost:8080/"
        },
        "id": "v5NrriUFzTM1",
        "outputId": "693f7b0c-45fd-4056-9857-cdb2549833b8"
      },
      "execution_count": null,
      "outputs": [
        {
          "output_type": "stream",
          "name": "stdout",
          "text": [
            "b'pranpriya'\n"
          ]
        }
      ]
    }
  ]
}